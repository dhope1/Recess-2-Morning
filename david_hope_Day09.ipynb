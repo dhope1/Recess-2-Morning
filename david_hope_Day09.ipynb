{
 "cells": [
  {
   "cell_type": "code",
   "execution_count": 1,
   "metadata": {},
   "outputs": [],
   "source": [
    "#loading the dataset\n",
    "\n",
    "import pandas as p\n",
    "import numpy as n\n",
    "\n",
    "q = p.read_csv('niceguys1')\n",
    "\n",
    "q\n"
   ]
  },
  {
   "cell_type": "code",
   "execution_count": null,
   "metadata": {},
   "outputs": [],
   "source": [
    "#Data cleaning\n",
    "#check for missing values again \n",
    "\n",
    "print(q.isnull().sum())"
   ]
  },
  {
   "cell_type": "code",
   "execution_count": null,
   "metadata": {},
   "outputs": [],
   "source": [
    "\n",
    "# Removing commas and convert to numeric\n",
    "data['living_allowance'] = data['living_allowance'].str.replace(',', '')\n",
    "data['living_allowance'] = p.to_numeric(data['living_allowance'], errors='coerce')\n",
    "\n",
    "# Fill NaN values with the median\n",
    "q['living allowance'] = q['living_allowance'].fillna(median())\n",
    "\n",
    "# Print the first 20 rows of the dataframe\n",
    "print(q.head(20))\n"
   ]
  },
  {
   "cell_type": "code",
   "execution_count": null,
   "metadata": {},
   "outputs": [],
   "source": [
    "\n",
    "import matplotlib.pyplot as plt\n",
    "# siblings\n",
    "\n",
    "siblings_counts = data['number_siblings'].value_counts()\n",
    "# Create a pie chart\n",
    "# plt.figure(figsize=(9, 9))\n",
    "plt.pie(siblings_counts, labels=siblings_counts.index, autopct='%1.1f%%', startangle=140)\n",
    "plt.title('Distribution of Number of Siblings')\n",
    "plt.axis('equal')\n",
    "plt.show()"
   ]
  },
  {
   "cell_type": "code",
   "execution_count": null,
   "metadata": {},
   "outputs": [],
   "source": [
    "import pandas as p\n",
    "import numpy as n\n",
    "data=p.read_csv('crop.csv')\n",
    "print(data)\n"
   ]
  },
  {
   "cell_type": "code",
   "execution_count": null,
   "metadata": {},
   "outputs": [],
   "source": [
    "#crop analysis\n",
    "print(data.isnull().sum())"
   ]
  },
  {
   "cell_type": "code",
   "execution_count": null,
   "metadata": {},
   "outputs": [],
   "source": [
    "#Summary statistics\n",
    "#Explanatory data analysis\n",
    "print(data.describe())"
   ]
  },
  {
   "cell_type": "code",
   "execution_count": null,
   "metadata": {},
   "outputs": [],
   "source": [
    "#check for nul missing values\n",
    "import seaborn as sns\n",
    "sns.heatmap(data.isnull(),yticklabels=False,cbar=False,cmap='viridis')\n",
    "\n",
    "\n"
   ]
  },
  {
   "cell_type": "code",
   "execution_count": null,
   "metadata": {},
   "outputs": [],
   "source": [
    "\n",
    "print(data['temperature'].value_counts())"
   ]
  },
  {
   "cell_type": "code",
   "execution_count": null,
   "metadata": {},
   "outputs": [],
   "source": [
    "\n",
    "import matplotlib.pyplot as plt\n",
    "\n",
    "sns.histplot(data['temperature'],color='pink',bins=30,kde=True)\n",
    "plt.title('temperature distribution')\n",
    "plt.show()"
   ]
  },
  {
   "cell_type": "code",
   "execution_count": null,
   "metadata": {},
   "outputs": [],
   "source": [
    "#method 2\n",
    "#N is the nitrogen\n",
    "#k is the Potasium\n",
    "#p \n",
    "sns.heatmap(data.isnull(),cmap='coolwarm')\n",
    "plt.show()"
   ]
  },
  {
   "cell_type": "code",
   "execution_count": null,
   "metadata": {},
   "outputs": [],
   "source": [
    "# Correlation, relationship between columns\n",
    "c =data.label.astype('category')\n",
    "targets = dict(enumerate(c.cat.categories))\n",
    "data['target'] = c.cat.codes\n",
    "\n",
    "y = data.target\n",
    "X = data[['N', 'P', 'temperature','humidity','ph','rainfall']]\n",
    "\n",
    "sns.heatmap(X.corr())\n",
    "plt.title(\"Correlation\")\n",
    "plt.show()"
   ]
  },
  {
   "cell_type": "code",
   "execution_count": null,
   "metadata": {},
   "outputs": [],
   "source": [
    "#Phosphorous level\n",
    "sns.boxplot(y='label',x='ph',data=data, palette='plasma_r')\n",
    "plt.title('phosphorous level')\n",
    "plt.show()\n"
   ]
  },
  {
   "cell_type": "code",
   "execution_count": null,
   "metadata": {},
   "outputs": [],
   "source": [
    "import pandas as p"
   ]
  },
  {
   "cell_type": "code",
   "execution_count": null,
   "metadata": {},
   "outputs": [],
   "source": [
    "#Phosphorous level\n",
    "sns.boxplot(x='label',y='ph',data=data, palette='plasma_r')\n",
    "plt.title('phosphorous level')\n",
    "plt.show()\n"
   ]
  },
  {
   "cell_type": "code",
   "execution_count": null,
   "metadata": {},
   "outputs": [],
   "source": [
    "#Phosphorous level\n",
    "sns.boxplot(x='label',y='ph',data=data[data['rainfall']>150])\n",
    "plt.title('phosphorous level')\n",
    "plt.show()\n"
   ]
  },
  {
   "cell_type": "code",
   "execution_count": null,
   "metadata": {},
   "outputs": [],
   "source": [
    "\n",
    "sns.countplot(y='label',data=data)\n",
    "plt.title('label distribution')\n",
    "plt.show()\n"
   ]
  },
  {
   "cell_type": "code",
   "execution_count": null,
   "metadata": {},
   "outputs": [],
   "source": [
    "#Data Visualization:Visualization helps to gain more insights from the data\n",
    "import seaborn as sns\n",
    "import matplotlib.pyplot as plt\n",
    "#have bf gf by gender\n",
    "sns.barplot(x='gender',y='have_bf_gf',data=data)\n",
    "\n"
   ]
  },
  {
   "cell_type": "code",
   "execution_count": null,
   "metadata": {},
   "outputs": [],
   "source": [
    "data['living_allowance'] = data['living_allowance'].fillna(data['living_allowance'].mode())\n",
    "\n",
    "print(data.head(5))"
   ]
  },
  {
   "cell_type": "code",
   "execution_count": null,
   "metadata": {},
   "outputs": [],
   "source": [
    "#Distribution of professional\n",
    "print(data['profession'])\n"
   ]
  }
 ],
 "metadata": {
  "kernelspec": {
   "display_name": "Python 3 (ipykernel)",
   "language": "python",
   "name": "python3"
  },
  "language_info": {
   "codemirror_mode": {
    "name": "ipython",
    "version": 3
   },
   "file_extension": ".py",
   "mimetype": "text/x-python",
   "name": "python",
   "nbconvert_exporter": "python",
   "pygments_lexer": "ipython3",
   "version": "3.12.2"
  }
 },
 "nbformat": 4,
 "nbformat_minor": 2
}
