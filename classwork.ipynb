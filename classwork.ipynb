{
 "cells": [
  {
   "cell_type": "code",
   "execution_count": 1,
   "metadata": {},
   "outputs": [
    {
     "data": {
      "text/html": [
       "<div>\n",
       "<style scoped>\n",
       "    .dataframe tbody tr th:only-of-type {\n",
       "        vertical-align: middle;\n",
       "    }\n",
       "\n",
       "    .dataframe tbody tr th {\n",
       "        vertical-align: top;\n",
       "    }\n",
       "\n",
       "    .dataframe thead th {\n",
       "        text-align: right;\n",
       "    }\n",
       "</style>\n",
       "<table border=\"1\" class=\"dataframe\">\n",
       "  <thead>\n",
       "    <tr style=\"text-align: right;\">\n",
       "      <th></th>\n",
       "      <th>number_siblings</th>\n",
       "      <th>name</th>\n",
       "      <th>sex</th>\n",
       "      <th>age</th>\n",
       "      <th>living_allowance</th>\n",
       "      <th>Are_you_a</th>\n",
       "      <th>How_many_time_do_eat_food</th>\n",
       "      <th>Unnamed: 7</th>\n",
       "      <th>do_you_have_aboyfriend/girlfriend</th>\n",
       "    </tr>\n",
       "  </thead>\n",
       "  <tbody>\n",
       "    <tr>\n",
       "      <th>0</th>\n",
       "      <td>1</td>\n",
       "      <td>Nakasujja Gertrude</td>\n",
       "      <td>female</td>\n",
       "      <td>33</td>\n",
       "      <td>NaN</td>\n",
       "      <td>Data Scientist</td>\n",
       "      <td>2</td>\n",
       "      <td>NaN</td>\n",
       "      <td>1</td>\n",
       "    </tr>\n",
       "    <tr>\n",
       "      <th>1</th>\n",
       "      <td>3</td>\n",
       "      <td>Arinda Asiimwe Atweta</td>\n",
       "      <td>female</td>\n",
       "      <td>23</td>\n",
       "      <td>50,000</td>\n",
       "      <td>Machine Learning Enginer</td>\n",
       "      <td>1</td>\n",
       "      <td>NaN</td>\n",
       "      <td>1</td>\n",
       "    </tr>\n",
       "    <tr>\n",
       "      <th>2</th>\n",
       "      <td>4</td>\n",
       "      <td>Ndjekornom Victoire</td>\n",
       "      <td>male</td>\n",
       "      <td>23</td>\n",
       "      <td>25000</td>\n",
       "      <td>Data Scientist</td>\n",
       "      <td>1</td>\n",
       "      <td>NaN</td>\n",
       "      <td>0</td>\n",
       "    </tr>\n",
       "    <tr>\n",
       "      <th>3</th>\n",
       "      <td>0</td>\n",
       "      <td>KATURAMU EDGAR</td>\n",
       "      <td>male</td>\n",
       "      <td>27</td>\n",
       "      <td>500000</td>\n",
       "      <td>Machine Learning Enginer</td>\n",
       "      <td>2</td>\n",
       "      <td>NaN</td>\n",
       "      <td>0</td>\n",
       "    </tr>\n",
       "    <tr>\n",
       "      <th>4</th>\n",
       "      <td>4</td>\n",
       "      <td>Abinsinguza Lasse</td>\n",
       "      <td>male</td>\n",
       "      <td>24</td>\n",
       "      <td>100000</td>\n",
       "      <td>Data Scientist</td>\n",
       "      <td>2</td>\n",
       "      <td>NaN</td>\n",
       "      <td>1</td>\n",
       "    </tr>\n",
       "  </tbody>\n",
       "</table>\n",
       "</div>"
      ],
      "text/plain": [
       "   number_siblings                   name     sex  age living_allowance  \\\n",
       "0                1     Nakasujja Gertrude  female   33              NaN   \n",
       "1                3  Arinda Asiimwe Atweta  female   23           50,000   \n",
       "2                4    Ndjekornom Victoire    male   23            25000   \n",
       "3                0         KATURAMU EDGAR    male   27           500000   \n",
       "4                4      Abinsinguza Lasse    male   24           100000   \n",
       "\n",
       "                  Are_you_a  How_many_time_do_eat_food  Unnamed: 7  \\\n",
       "0            Data Scientist                          2         NaN   \n",
       "1  Machine Learning Enginer                          1         NaN   \n",
       "2            Data Scientist                          1         NaN   \n",
       "3  Machine Learning Enginer                          2         NaN   \n",
       "4            Data Scientist                          2         NaN   \n",
       "\n",
       "   do_you_have_aboyfriend/girlfriend  \n",
       "0                                  1  \n",
       "1                                  1  \n",
       "2                                  0  \n",
       "3                                  0  \n",
       "4                                  1  "
      ]
     },
     "execution_count": 1,
     "metadata": {},
     "output_type": "execute_result"
    }
   ],
   "source": [
    "import pandas as p\n",
    "import numpy as n\n",
    "#Loading CSV file into a data frame\n",
    "\n",
    "q = p.read_csv(\"niceguys1.csv\")\n",
    "\n",
    "#Data diplay\n",
    "q.head(P)"
   ]
  },
  {
   "cell_type": "code",
   "execution_count": 80,
   "metadata": {},
   "outputs": [
    {
     "data": {
      "text/plain": [
       "Index(['number_siblings', 'name', 'sex', 'age', 'living_allowance',\n",
       "       'Are_you_a', 'How_many_time_do_eat_food', 'Unnamed: 7',\n",
       "       'do_you_have_aboyfriend/girlfriend'],\n",
       "      dtype='object')"
      ]
     },
     "execution_count": 80,
     "metadata": {},
     "output_type": "execute_result"
    }
   ],
   "source": [
    "#Cleaning column names \n",
    "q.columns.str.strip().str.replace(\" \",\"_\").str.replace(\"/\",\"_\").str.lower()\n",
    "\n",
    "#Diaplaying cleaned column names\n",
    "q.columns"
   ]
  },
  {
   "cell_type": "code",
   "execution_count": 81,
   "metadata": {},
   "outputs": [
    {
     "data": {
      "text/plain": [
       "number_siblings                       0\n",
       "name                                  0\n",
       "sex                                   0\n",
       "age                                   0\n",
       "living_allowance                      6\n",
       "Are_you_a                             0\n",
       "How_many_time_do_eat_food             0\n",
       "Unnamed: 7                           35\n",
       "do_you_have_aboyfriend/girlfriend     0\n",
       "dtype: int64"
      ]
     },
     "execution_count": 81,
     "metadata": {},
     "output_type": "execute_result"
    }
   ],
   "source": [
    "#Displaying number of missing values in each column\n",
    "q.isnull().sum()"
   ]
  },
  {
   "cell_type": "code",
   "execution_count": 90,
   "metadata": {},
   "outputs": [
    {
     "data": {
      "text/plain": [
       "number_siblings                       0\n",
       "name                                  0\n",
       "sex                                   0\n",
       "age                                   0\n",
       "living_allowance                      0\n",
       "Are_you_a                             0\n",
       "How_many_time_do_eat_food             0\n",
       "Unnamed: 7                           35\n",
       "do_you_have_aboyfriend/girlfriend     0\n",
       "living_allownace                      0\n",
       "dtype: int64"
      ]
     },
     "execution_count": 90,
     "metadata": {},
     "output_type": "execute_result"
    }
   ],
   "source": [
    "#Filling missing values in \"Living_allowance\" with the mean of the column \n",
    "q[\"living_allowance\"] = q[\"living_allowance\"].astype(str).str.replace(\",\", \"\").astype(float)\n",
    "q[\"living_allownace\"] = q[\"living_allowance\"].fillna(q[\"living_allowance\"].mean())\n",
    "\n",
    "#Displaying the number of missing values\n",
    "q.isnull().sum()\n",
    "#q[\"living_allowance\"].mean()"
   ]
  },
  {
   "cell_type": "code",
   "execution_count": 91,
   "metadata": {},
   "outputs": [
    {
     "data": {
      "text/plain": [
       "number_siblings                      0\n",
       "name                                 0\n",
       "sex                                  0\n",
       "age                                  0\n",
       "living_allowance                     0\n",
       "Are_you_a                            0\n",
       "How_many_time_do_eat_food            0\n",
       "Unnamed: 7                           0\n",
       "do_you_have_aboyfriend/girlfriend    0\n",
       "living_allownace                     0\n",
       "dtype: int64"
      ]
     },
     "execution_count": 91,
     "metadata": {},
     "output_type": "execute_result"
    }
   ],
   "source": [
    "q[\"Unnamed: 7\"] = q[\"Unnamed: 7\"].fillna(0)\n",
    "\n",
    "q.isnull().sum()"
   ]
  },
  {
   "cell_type": "code",
   "execution_count": 93,
   "metadata": {},
   "outputs": [
    {
     "name": "stdout",
     "output_type": "stream",
     "text": [
      "Index(['number_siblings', 'name', 'sex', 'age', 'living_allowance',\n",
      "       'Are_you_a', 'How_many_time_do_eat_food', 'Unnamed: 7',\n",
      "       'do_you_have_aboyfriend/girlfriend', 'living_allownace'],\n",
      "      dtype='object')\n"
     ]
    }
   ],
   "source": [
    "q[\"do_you_have_aboyfriend/girlfriend\"] = \"Relationship_status\"\n",
    "print(q.columns)\n",
    "#Ensure Correct data types \n",
    "\n"
   ]
  },
  {
   "cell_type": "code",
   "execution_count": 94,
   "metadata": {},
   "outputs": [
    {
     "data": {
      "text/plain": [
       "number_siblings                        int64\n",
       "name                                  object\n",
       "sex                                   object\n",
       "age                                    int64\n",
       "living_allowance                     float64\n",
       "Are_you_a                             object\n",
       "How_many_time_do_eat_food              int64\n",
       "Unnamed: 7                           float64\n",
       "do_you_have_aboyfriend/girlfriend     object\n",
       "living_allownace                     float64\n",
       "dtype: object"
      ]
     },
     "execution_count": 94,
     "metadata": {},
     "output_type": "execute_result"
    }
   ],
   "source": [
    "# Ensuring correct data types \n",
    "q[\"number_siblings\"] = q[\"number_siblings\"].astype(int)\n",
    "q[\"name\"] = q[\"name\"].astype(str)\n",
    "q[\"sex\"] = q[\"sex\"].astype(str)\n",
    "q[\"age\"] = q[\"age\"].astype(int)\n",
    "q[\"How_many_time_do_eat_food\"] = q[\"How_many_time_do_eat_food\"].astype(int)\n",
    "\n",
    "#displaying data types \n",
    "q.dtypes"
   ]
  },
  {
   "cell_type": "code",
   "execution_count": 10,
   "metadata": {},
   "outputs": [
    {
     "data": {
      "image/png": "[encoded data removed]",
      "text/plain": [
       "<Figure size 800x400 with 1 Axes>"
      ]
     },
     "metadata": {},
     "output_type": "display_data"
    }
   ],
   "source": [
    "import matplotlib.pyplot as m\n",
    "import seaborn as s\n",
    "\n",
    "#Plotting distribution of students with age and relationship status\n",
    "m.figure(figsize=(8, 4))\n",
    "s.countplot(data=q, x= \"age\", hue= \"do_you_have_aboyfriend/girlfriend\")\n",
    "m.title(\"The Distribution of Students by Age and Relationship Status \")\n",
    "m.xlabel(\"Age\")\n",
    "m.ylabel(\"Count\")\n",
    "m.legend(title = \" Student In a Relationship \", loc = \"upper right\", labels=[\"0\", \"1\"])\n",
    "m.show()"
   ]
  },
  {
   "cell_type": "code",
   "execution_count": 13,
   "metadata": {},
   "outputs": [
    {
     "data": {
      "image/png": "[encoded data removed]",
      "text/plain": [
       "<Figure size 800x400 with 1 Axes>"
      ]
     },
     "metadata": {},
     "output_type": "display_data"
    }
   ],
   "source": [
    "# Plotting Gender Distribution with relationship status\n",
    "m.figure(figsize=(8, 4))\n",
    "s.countplot(data=q, x=\"sex\", hue = \"do_you_have_aboyfriend/girlfriend\")\n",
    "m.title(\"Gender Distribution with Relationship Status\")\n",
    "m.xlabel(\"Gender\")\n",
    "m.ylabel(\"Count\")\n",
    "m.show()"
   ]
  },
  {
   "cell_type": "code",
   "execution_count": null,
   "metadata": {},
   "outputs": [],
   "source": []
  }
 ],
 "metadata": {
  "kernelspec": {
   "display_name": "Python 3 (ipykernel)",
   "language": "python",
   "name": "python3"
  },
  "language_info": {
   "codemirror_mode": {
    "name": "ipython",
    "version": 3
   },
   "file_extension": ".py",
   "mimetype": "text/x-python",
   "name": "python",
   "nbconvert_exporter": "python",
   "pygments_lexer": "ipython3",
   "version": "3.12.2"
  }
 },
 "nbformat": 4,
 "nbformat_minor": 2
}
